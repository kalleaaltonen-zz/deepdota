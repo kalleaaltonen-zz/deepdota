{
 "cells": [
  {
   "cell_type": "code",
   "execution_count": 1,
   "metadata": {},
   "outputs": [],
   "source": [
    "import tensorflow as tf\n",
    "import json\n",
    "import numpy as np\n",
    "import matplotlib.pyplot as plt\n",
    "\n",
    "%matplotlib inline"
   ]
  },
  {
   "cell_type": "markdown",
   "metadata": {},
   "source": [
    "# todo:\n",
    "- flask\n",
    "- hero functions to `hero.py`\n",
    "- Overall win rate dire/radiant\n",
    "- win rates by faction per hero?\n",
    "- try data augmentation by reflecting the teams. should increase accuracy?"
   ]
  },
  {
   "cell_type": "code",
   "execution_count": 2,
   "metadata": {},
   "outputs": [],
   "source": [
    "# refactor to heroes.py\n",
    "def load_heroes():\n",
    "    data = json.load(open('heroes.json'))\n",
    "\n",
    "    ids = list(map(lambda x: x['id'], data))\n",
    "    names = list(map(lambda x: x['localized_name'], data))\n",
    "    \n",
    "    id_to_offset = {} \n",
    "    offset_to_id = {}\n",
    "    for offset, id in enumerate(ids):\n",
    "        id_to_offset[id] = offset\n",
    "        offset_to_id[offset] = id\n",
    "        \n",
    "    return dict(zip(ids, names)), id_to_offset, offset_to_id\n",
    "\n",
    "heroes, id_to_offset, offset_to_id = load_heroes()\n",
    "\n",
    "def name_for_offset(o):\n",
    "    return heroes[offset_to_id[o]]\n"
   ]
  },
  {
   "cell_type": "code",
   "execution_count": 3,
   "metadata": {},
   "outputs": [],
   "source": [
    "ANTIMAGE=1\n",
    "AXE=2\n",
    "BANE=3\n",
    "BLOODSEEKER=4\n",
    "CRYSTAL_MAIDEN=5\n",
    "DROW_RANGER=6\n",
    "EARTHSHAKER=7\n",
    "JUGGERNAUT=8\n",
    "MIRANA=9\n",
    "MORPHLING=10\n",
    "SHADOW_FIEND=11\n",
    "PHANTOM_LANCER=12\n",
    "PUCK=13\n",
    "PUDGE=14\n",
    "RAZOR=15\n",
    "SAND_KING=16\n",
    "STORM_SPIRIT=17\n",
    "SVEN=18\n",
    "TINY=19\n",
    "VENGEFUL_SPIRIT=20\n",
    "WINDRANGER=21\n",
    "ZEUS=22\n",
    "KUNKKA=23\n",
    "LINA=25\n",
    "LION=26\n",
    "SHADOW_SHAMAN=27\n",
    "SLARDAR=28\n",
    "TIDEHUNTER=29\n",
    "WITCH_DOCTOR=30\n",
    "LICH=31\n",
    "RIKI=32\n",
    "ENIGMA=33\n",
    "TINKER=34\n",
    "SNIPER=35\n",
    "NECROPHOS=36\n",
    "WARLOCK=37\n",
    "BEASTMASTER=38\n",
    "QUEEN_OF_PAIN=39\n",
    "VENOMANCER=40\n",
    "FACELESS_VOID=41\n",
    "WRAITH_KING=42\n",
    "DEATH_PROPHET=43\n",
    "PHANTOM_ASSASSIN=44\n",
    "PUGNA=45\n",
    "TEMPLAR_ASSASSIN=46\n",
    "VIPER=47\n",
    "LUNA=48\n",
    "DRAGON_KNIGHT=49\n",
    "DAZZLE=50\n",
    "CLOCKWERK=51\n",
    "LESHRAC=52\n",
    "NATURES_PROPHET=53\n",
    "LIFESTEALER=54\n",
    "DARK_SEER=55\n",
    "CLINKZ=56\n",
    "OMNIKNIGHT=57\n",
    "ENCHANTRESS=58\n",
    "HUSKAR=59\n",
    "NIGHT_STALKER=60\n",
    "BROODMOTHER=61\n",
    "BOUNTY_HUNTER=62\n",
    "WEAVER=63\n",
    "JAKIRO=64\n",
    "BATRIDER=65\n",
    "CHEN=66\n",
    "SPECTRE=67\n",
    "ANCIENT_APPARITION=68\n",
    "DOOM=69\n",
    "URSA=70\n",
    "SPIRIT_BREAKER=71\n",
    "GYROCOPTER=72\n",
    "ALCHEMIST=73\n",
    "INVOKER=74\n",
    "SILENCER=75\n",
    "OUTWORLD_DEVOURER=76\n",
    "LYCAN=77\n",
    "BREWMASTER=78\n",
    "SHADOW_DEMON=79\n",
    "LONE_DRUID=80\n",
    "CHAOS_KNIGHT=81\n",
    "MEEPO=82\n",
    "TREANT_PROTECTOR=83\n",
    "OGRE_MAGI=84\n",
    "UNDYING=85\n",
    "RUBICK=86\n",
    "DISRUPTOR=87\n",
    "NYX_ASSASSIN=88\n",
    "NAGA_SIREN=89\n",
    "KEEPER_OF_THE_LIGHT=90\n",
    "IO=91\n",
    "VISAGE=92\n",
    "SLARK=93\n",
    "MEDUSA=94\n",
    "TROLL_WARLORD=95\n",
    "CENTAUR_WARRUNNER=96\n",
    "MAGNUS=97\n",
    "TIMBERSAW=98\n",
    "BRISTLEBACK=99\n",
    "TUSK=100\n",
    "SKYWRATH_MAGE=101\n",
    "ABADDON=102\n",
    "ELDER_TITAN=103\n",
    "LEGION_COMMANDER=104\n",
    "TECHIES=105\n",
    "EMBER_SPIRIT=106\n",
    "EARTH_SPIRIT=107\n",
    "UNDERLORD=108\n",
    "TERRORBLADE=109\n",
    "PHOENIX=110\n",
    "ORACLE=111\n",
    "WINTER_WYVERN=112\n",
    "ARC_WARDEN=113\n",
    "MONKEY_KING=114\n",
    "DARK_WILLOW=119\n",
    "PANGOLIER=120"
   ]
  },
  {
   "cell_type": "code",
   "execution_count": 4,
   "metadata": {},
   "outputs": [],
   "source": [
    "def vector_from_teams(radiant, dire):\n",
    "    assert len(radiant) == 5\n",
    "    assert len(dire) == 5\n",
    "    v = np.zeros(len(id_to_offset))\n",
    "    for player in radiant:\n",
    "        v[id_to_offset[int(player)]] = 1\n",
    "\n",
    "    for player in dire:\n",
    "        v[id_to_offset[int(player)]] = -1\n",
    "\n",
    "    return np.array([v])"
   ]
  },
  {
   "cell_type": "code",
   "execution_count": 9,
   "metadata": {},
   "outputs": [
    {
     "name": "stdout",
     "output_type": "stream",
     "text": [
      "INFO:tensorflow:Using default config.\n",
      "INFO:tensorflow:Using config: {'_model_dir': 'models/dnn_dota_serve', '_tf_random_seed': None, '_save_summary_steps': 100, '_save_checkpoints_steps': None, '_save_checkpoints_secs': 600, '_session_config': None, '_keep_checkpoint_max': 5, '_keep_checkpoint_every_n_hours': 10000, '_log_step_count_steps': 100, '_service': None, '_cluster_spec': <tensorflow.python.training.server_lib.ClusterSpec object at 0x0000016FF8A17470>, '_task_type': 'worker', '_task_id': 0, '_master': '', '_is_chief': True, '_num_ps_replicas': 0, '_num_worker_replicas': 1}\n"
     ]
    }
   ],
   "source": [
    "heroes_columns = tf.feature_column.numeric_column('heroes', (115,))\n",
    "estimator = tf.estimator.DNNClassifier(\n",
    "    feature_columns=[heroes_columns],\n",
    "    hidden_units=[100, 50, 10],\n",
    "    model_dir='models/dnn_dota_serve'\n",
    ")"
   ]
  },
  {
   "cell_type": "code",
   "execution_count": 11,
   "metadata": {},
   "outputs": [
    {
     "name": "stdout",
     "output_type": "stream",
     "text": [
      "[[ 1.  0.  0.  0.  0.  0.  0.  0.  0.  0.  0.  0.  0.  0.  0.  0.  0.  0.\n",
      "   0.  0.  0.  0.  0.  0.  0.  0.  0.  0.  0.  0.  0.  0.  0.  0.  0.  0.\n",
      "   0.  0.  0.  0. -1.  1. -1.  0.  0.  0.  0.  0.  0.  0.  0.  1.  0.  0.\n",
      "   0.  0.  0.  0.  0.  0.  0.  0.  0.  0.  0.  0.  0.  0.  0.  0.  0.  0.\n",
      "   0.  0.  0. -1.  0.  0.  0.  0.  0. -1.  0.  0.  0.  0.  0.  0.  0.  0.\n",
      "   0.  0.  0. -1.  1.  0.  0.  0.  0.  0.  0.  0.  0.  0.  0.  0.  0.  1.\n",
      "   0.  0.  0.  0.  0.  0.  0.]]\n",
      "INFO:tensorflow:Restoring parameters from models/dnn_dota_serve\\model.ckpt-5076\n",
      "[{'logits': array([-0.49891353], dtype=float32), 'logistic': array([0.377796], dtype=float32), 'probabilities': array([0.62220395, 0.37779602], dtype=float32), 'class_ids': array([0], dtype=int64), 'classes': array([b'0'], dtype=object)}]\n",
      "[[-1.  0.  0.  0.  0.  0.  0.  0.  0.  0.  0.  0.  0.  0.  0.  0.  0.  0.\n",
      "   0.  0.  0.  0.  0.  0.  0.  0.  0.  0.  0.  0.  0.  0.  0.  0.  0.  0.\n",
      "   0.  0.  0.  0.  1. -1.  1.  0.  0.  0.  0.  0.  0.  0.  0. -1.  0.  0.\n",
      "   0.  0.  0.  0.  0.  0.  0.  0.  0.  0.  0.  0.  0.  0.  0.  0.  0.  0.\n",
      "   0.  0.  0.  1.  0.  0.  0.  0.  0.  1.  0.  0.  0.  0.  0.  0.  0.  0.\n",
      "   0.  0.  0.  1. -1.  0.  0.  0.  0.  0.  0.  0.  0.  0.  0.  0.  0. -1.\n",
      "   0.  0.  0.  0.  0.  0.  0.]]\n",
      "INFO:tensorflow:Restoring parameters from models/dnn_dota_serve\\model.ckpt-5076\n",
      "[{'logits': array([0.72166884], dtype=float32), 'logistic': array([0.67297435], dtype=float32), 'probabilities': array([0.3270256 , 0.67297435], dtype=float32), 'class_ids': array([1], dtype=int64), 'classes': array([b'1'], dtype=object)}]\n"
     ]
    }
   ],
   "source": [
    "def pred(model, radiant, dire):\n",
    "    vec = vector_from_teams(radiant, dire)\n",
    "    print(vec)\n",
    "    prediction = model.predict(input_fn=tf.estimator.inputs.numpy_input_fn({'heroes': vec}, shuffle=False))\n",
    "    return prediction\n",
    "\n",
    "p = pred(\n",
    "    estimator,\n",
    "    [DEATH_PROPHET, TERRORBLADE, ANTIMAGE, CENTAUR_WARRUNNER, NATURES_PROPHET], \n",
    "    [PHANTOM_ASSASSIN, WRAITH_KING, LYCAN, TREANT_PROTECTOR, TROLL_WARLORD]\n",
    ")\n",
    "print(list(p))\n",
    "\n",
    "p = pred(\n",
    "    estimator, \n",
    "    [PHANTOM_ASSASSIN, WRAITH_KING, LYCAN, TREANT_PROTECTOR, TROLL_WARLORD],\n",
    "    [DEATH_PROPHET, TERRORBLADE, ANTIMAGE, CENTAUR_WARRUNNER, NATURES_PROPHET]\n",
    ")\n",
    "print(list(p))"
   ]
  },
  {
   "cell_type": "code",
   "execution_count": 12,
   "metadata": {},
   "outputs": [],
   "source": [
    "from flask import Flask, request\n",
    "\n",
    "app = Flask(__name__)\n",
    "\n",
    "@app.route('/match/<string:radiant>/<string:dire>/<string:bans>')\n",
    "def match(radiant, dire, bans):\n",
    "    return \"teams are radiant: {}, dire: {}, bans: {}\".format(radiant, dire, bans)\n"
   ]
  },
  {
   "cell_type": "code",
   "execution_count": null,
   "metadata": {},
   "outputs": [],
   "source": [
    "pred(\n",
    "    model,\n",
    "    [TECHIES, IO, OGRE_MAGI, SHADOW_SHAMAN, SHADOW_FIEND],\n",
    "    [TROLL_WARLORD, VENGEFUL_SPIRIT, GYROCOPTER, PUDGE, TEMPLAR_ASSASSIN]\n",
    ")\n",
    "\n",
    "pred(\n",
    "    model,\n",
    "    [TROLL_WARLORD, VENGEFUL_SPIRIT, GYROCOPTER, PUDGE, TEMPLAR_ASSASSIN],\n",
    "    [TECHIES, IO, OGRE_MAGI, SHADOW_SHAMAN, SHADOW_FIEND]\n",
    ")\n"
   ]
  },
  {
   "cell_type": "code",
   "execution_count": null,
   "metadata": {},
   "outputs": [],
   "source": [
    "pred(\n",
    "    model,\n",
    "    [TINY, KUNKKA, CENTAUR_WARRUNNER, TECHIES, ZEUS],\n",
    "    [PUDGE, VENOMANCER, LEGION_COMMANDER, JUGGERNAUT, INVOKER]\n",
    ")\n",
    "\n",
    "pred(\n",
    "    model,\n",
    "    [PUDGE, VENOMANCER, LEGION_COMMANDER, JUGGERNAUT, INVOKER],\n",
    "    [TINY, KUNKKA, CENTAUR_WARRUNNER, TECHIES, ZEUS]\n",
    ")"
   ]
  },
  {
   "cell_type": "code",
   "execution_count": 17,
   "metadata": {},
   "outputs": [
    {
     "name": "stdout",
     "output_type": "stream",
     "text": [
      "0.2721787118692156\n",
      "-4.3434443179788875\n"
     ]
    }
   ],
   "source": [
    "r = np.random.rand()\n",
    "print(r)\n",
    "print(1-10**(- r + 1)) "
   ]
  },
  {
   "cell_type": "code",
   "execution_count": null,
   "metadata": {},
   "outputs": [],
   "source": []
  }
 ],
 "metadata": {
  "kernelspec": {
   "display_name": "Python 3",
   "language": "python",
   "name": "python3"
  },
  "language_info": {
   "codemirror_mode": {
    "name": "ipython",
    "version": 3
   },
   "file_extension": ".py",
   "mimetype": "text/x-python",
   "name": "python",
   "nbconvert_exporter": "python",
   "pygments_lexer": "ipython3",
   "version": "3.6.4"
  }
 },
 "nbformat": 4,
 "nbformat_minor": 2
}
